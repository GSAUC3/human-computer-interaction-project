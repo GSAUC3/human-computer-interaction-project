{
 "cells": [
  {
   "cell_type": "code",
   "execution_count": null,
   "metadata": {},
   "outputs": [],
   "source": [
    "import torch \n",
    "from torch import nn\n",
    "from torchvision import transforms\n",
    "from torch.utils.data import DataLoader\n",
    "from torchvision.datasets import ImageFolder\n",
    "from torchsummary import summary\n",
    "from tqdm.notebook import tqdm\n"
   ]
  },
  {
   "cell_type": "code",
   "execution_count": null,
   "metadata": {},
   "outputs": [],
   "source": [
    "device = torch.device('cuda' if torch.cuda.is_available() else 'cpu')\n",
    "print('Device using: ',device)\n",
    "if device != 'cpu':\n",
    "    print(torch.cuda.get_device_name())"
   ]
  },
  {
   "cell_type": "code",
   "execution_count": null,
   "metadata": {},
   "outputs": [],
   "source": [
    "dataset = ImageFolder('../dataset',transform=transforms.Compose([transforms.ToTensor(), transforms.Grayscale(num_output_channels=1)]))\n",
    "print('Length of the dataset is ',len(dataset))\n",
    "print('Classes',dataset.classes, '\\nNumber of classes: ',len(dataset.classes))"
   ]
  },
  {
   "cell_type": "code",
   "execution_count": null,
   "metadata": {},
   "outputs": [],
   "source": [
    "image,label = dataset[0]\n",
    "image.shape , label , dataset.classes[label]"
   ]
  },
  {
   "cell_type": "code",
   "execution_count": null,
   "metadata": {},
   "outputs": [],
   "source": [
    "%matplotlib inline\n",
    "import matplotlib.pyplot as plt \n",
    "\n",
    "def display(data):\n",
    "    image,label = data \n",
    "    plt.imshow(image.permute(1,2,0))\n",
    "    print(f'Label {dataset.classes[label]} Image shape: {image.shape}')\n",
    "display(dataset[-187])\n"
   ]
  },
  {
   "cell_type": "code",
   "execution_count": null,
   "metadata": {},
   "outputs": [],
   "source": [
    "o = lambda i,k,p=0,s=1: (i+2*p-k)//s +1 \n",
    "o(16,3) , 32/2"
   ]
  },
  {
   "cell_type": "code",
   "execution_count": null,
   "metadata": {},
   "outputs": [],
   "source": [
    "class Net(nn.Module):\n",
    "    def __init__(self):\n",
    "        super(Net,self).__init__()\n",
    "        \n",
    "        self.conv1 = nn.Conv2d(1,6,3) # out 32\n",
    "        self.pool1 = nn.MaxPool2d(2,2) # out 16\n",
    "        self.conv2 = nn.Conv2d(6,16,3) # out 14\n",
    "        self.pool2 = nn.MaxPool2d(2,2) # out 7\n",
    "        self.conv3 = nn.Conv2d(16,26,3) # out 5\n",
    "        self.fc1 = nn.Linear(25*26,64)\n",
    "        self.fc2 = nn.Linear(64,26)\n",
    "    \n",
    "    def forward(self,x):\n",
    "        x = nn.functional.relu(self.conv1(x))\n",
    "        x = self.pool1(x)\n",
    "        x = nn.functional.relu(self.conv2(x))\n",
    "        x = self.pool2(x)\n",
    "        x = nn.functional.relu(self.conv3(x))\n",
    "        x = x.view(-1,25*26)\n",
    "        x = self.fc1(x)\n",
    "        x = self.fc2(x)\n",
    "        # x1 = nn.functional.softmax(x)\n",
    "\n",
    "        return x \n",
    "\n"
   ]
  },
  {
   "cell_type": "code",
   "execution_count": null,
   "metadata": {},
   "outputs": [],
   "source": [
    "model = Net().to(device)\n",
    "summary(model,(1,34,34))"
   ]
  },
  {
   "cell_type": "code",
   "execution_count": null,
   "metadata": {},
   "outputs": [],
   "source": [
    "criterion = nn.CrossEntropyLoss()\n",
    "learning_rate = 3e-4\n",
    "optimizer = torch.optim.Adam(model.parameters(),lr = learning_rate)"
   ]
  },
  {
   "cell_type": "code",
   "execution_count": null,
   "metadata": {},
   "outputs": [],
   "source": [
    "def training_process(model,device,trainloader,valoader,criterion,optimizer):\n",
    "    model.train()\n",
    "    running_loss  = 0\n",
    "    Ncorrect_predictions = 0 # number of correct prediction\n",
    "    total = 0\n",
    "    for images,labels in tqdm(trainloader):\n",
    "        images,labels = images.to(device), labels.to(device)\n",
    "        # moving the data to GPU\n",
    "        optimizer.zero_grad()\n",
    "        out = model(images)\n",
    "        loss_per_batch = criterion(out,labels)\n",
    "        total += labels.size(0) # basically this should return the batch size\n",
    "        preds = torch.argmax(out,1).cpu().detach()\n",
    "        running_loss +=loss_per_batch.item()\n",
    "        Ncorrect_predictions += (preds==labels.cpu().detach()).sum().item()\n",
    "        \n",
    "        loss_per_batch.backward() # back propagation algorithm\n",
    "        optimizer.step()\n",
    "\n",
    "    acc = 100*(Ncorrect_predictions/total)\n",
    "    avg_loss = running_loss/len(trainloader)\n",
    "\n",
    "    model.eval()\n",
    "    total_ = 0\n",
    "    correct_ = 0\n",
    "    running_loss_ = 0\n",
    "    with torch.no_grad():\n",
    "        for images,labels in tqdm(valoader):\n",
    "            out = model(images.to(device))\n",
    "            labels = labels.to(device)\n",
    "            loss = criterion(out,labels)\n",
    "            running_loss_ += loss \n",
    "            total_ += labels.size(0)\n",
    "            predictions = out.argmax(dim=1).cpu().detach()\n",
    "            correct_ += (predictions==labels.cpu().detach()).sum().item()\n",
    "    \n",
    "    val_loss = running_loss_/len(valoader)\n",
    "    val_acc = 100*(correct_/total_)\n",
    "\n",
    "    return acc,avg_loss,val_loss,val_acc\n",
    "\n",
    "    "
   ]
  },
  {
   "cell_type": "code",
   "execution_count": null,
   "metadata": {},
   "outputs": [],
   "source": [
    "from PIL import Image \n",
    "import numpy as np\n",
    "x = Image.open('apple0.jpg')\n",
    "x=x.convert('L')\n",
    "y = np.asarray(x)\n",
    "print(y.shape)\n",
    "# x.show()\n",
    "x1 = x.resize((34,34))\n",
    "# x1.show()\n",
    "x1 = torch.from_numpy(np.asarray(x1))\n",
    "x1 = x1.unsqueeze(0)\n",
    "x1 = x1.unsqueeze(0)\n",
    "print(x1.shape)\n",
    "x1=x1.float().to(device)\n",
    "print(type(x1),device)\n",
    "out = model(x1)\n",
    "print(dataset.classes[out.argmax(1).item()])\n",
    "out = nn.functional.softmax(out,1)\n",
    "print(dataset.classes[out.argmax(1).item()])\n"
   ]
  },
  {
   "cell_type": "code",
   "execution_count": null,
   "metadata": {},
   "outputs": [],
   "source": [
    "import cv2 \n",
    "x = cv2.imread('../apple0.jpg')\n",
    "print(x.shape)\n",
    "hsv = cv2.cvtColor(x,cv2.COLOR_BGR2HSV)\n",
    "mask = cv2.inRange(hsv,np.array([0,0,250]),np.array([172,111,255]))\n",
    "# _, thresh = cv2.threshold(y,250,255,0)\n",
    "contours, _ = cv2.findContours(mask,cv2.RETR_TREE,cv2.CHAIN_APPROX_NONE)\n",
    "cv2.drawContours(x,contours,-1,(0,255,255),3)\n",
    "cv2.imshow('out',x)\n",
    "print(contours,a)"
   ]
  },
  {
   "cell_type": "code",
   "execution_count": null,
   "metadata": {},
   "outputs": [],
   "source": [
    "S = len(dataset)\n",
    "S*0.7,S*0.1,S*0.2,S"
   ]
  },
  {
   "cell_type": "code",
   "execution_count": null,
   "metadata": {},
   "outputs": [],
   "source": [
    "\n",
    "train,val,test = torch.utils.data.random_split(dataset, [4781,684,1366])\n",
    "len(train), len(val), len(test)\n",
    "batch = 256\n",
    "trainDL = DataLoader(train,batch,shuffle=True,num_workers=4)\n",
    "valDL = DataLoader(val,batch,shuffle=False,num_workers=4)\n",
    "# testDL = DataLoader(test,batch,shuffle=False,num_workers=4)\n",
    "len(trainDL),len(valDL)"
   ]
  },
  {
   "cell_type": "code",
   "execution_count": null,
   "metadata": {},
   "outputs": [],
   "source": [
    "train_losses=[]\n",
    "valid_losses= []\n",
    "accuracy=[]\n",
    "v=[]\n",
    "for i in range(80):\n",
    "    acc,avg_loss,val_loss,val_acc = training_process(model,device,trainDL,valDL,criterion,optimizer)\n",
    "    print(f'Epoch{i+1}\\nTrain: acc {acc} loss {avg_loss}\\nVal: acc{val_acc} loss {val_loss}')\n",
    "    train_losses.append(avg_loss)\n",
    "    valid_losses.append(val_loss)\n",
    "    accuracy.append(acc)\n",
    "    v.append(val_acc)"
   ]
  },
  {
   "cell_type": "code",
   "execution_count": null,
   "metadata": {},
   "outputs": [],
   "source": [
    "def plot(nb_epochs,train_losses,valid_losses,acc,v):\n",
    "    epochs = range(nb_epochs)\n",
    "    plt.plot(epochs, train_losses, 'g', label='Training loss')\n",
    "    plt.plot(epochs, valid_losses, 'b', label='validation loss')\n",
    "    plt.title('Training and Validation loss')\n",
    "    plt.xlabel('Epochs')\n",
    "    plt.ylabel('Loss')\n",
    "    plt.legend()\n",
    "    plt.show()\n",
    "    plt.plot(epochs, acc, 'g', label='Training accuracy')\n",
    "    plt.plot(epochs, v, 'b', label='validation accuracy')\n",
    "    plt.title('Training and Validation accuracy')\n",
    "    plt.xlabel('Epochs')\n",
    "    plt.ylabel('accuracy')\n",
    "    plt.legend()\n",
    "    plt.show()"
   ]
  },
  {
   "cell_type": "code",
   "execution_count": null,
   "metadata": {},
   "outputs": [],
   "source": [
    "\n",
    "plot(100-20,train_losses,[v.cpu() for v in valid_losses],accuracy,v)"
   ]
  },
  {
   "cell_type": "code",
   "execution_count": null,
   "metadata": {},
   "outputs": [],
   "source": [
    "torch.save(model.state_dict(),'Model.pth')"
   ]
  },
  {
   "cell_type": "code",
   "execution_count": null,
   "metadata": {},
   "outputs": [],
   "source": [
    "def Final_test(dataloader,model,loss_fn):\n",
    "\n",
    "#     model in evaluation mode\n",
    "    model.eval() \n",
    "    \n",
    "    total = 0\n",
    "    correct = 0\n",
    "    running_loss = 0\n",
    "    \n",
    "    with torch.no_grad(): # gradients calculation not required\n",
    "        \n",
    "        for x,y in dataloader:\n",
    "            \n",
    "            output        = model(x.to(device)) #model's output.\n",
    "            loss          = loss_fn(output,y.to(device)).item() #loss calculation.\n",
    "            running_loss += loss\n",
    "            \n",
    "            total        += y.size(0)\n",
    "            predictions   = output.argmax(dim=1).cpu().detach()\n",
    "            correct      += (predictions == y.cpu().detach()).sum().item()\n",
    "            \n",
    "    avg_loss = running_loss/len(dataloader) #Average loss per batch.      \n",
    "    val_acc = 100*(correct/total)\n",
    "    print(f'\\t test Loss = {avg_loss:.6f}',end='\\t')\n",
    "    print(f'Accuracy on test set = {100*(correct/total):.6f}% [{correct}/{total}]') #Prints the Accuracy.\n",
    "    \n"
   ]
  },
  {
   "cell_type": "code",
   "execution_count": null,
   "metadata": {},
   "outputs": [],
   "source": [
    "testDL = DataLoader(test,batch,shuffle=False,num_workers=4)\n",
    "\n",
    "Final_test(testDL,model,criterion)"
   ]
  }
 ],
 "metadata": {
  "interpreter": {
   "hash": "6f41cde163267ea74fb8a959ea1c52e21a3d11db2c6ff7108ee0ea8d86fcf190"
  },
  "kernelspec": {
   "display_name": "Python 3.9.5 64-bit",
   "language": "python",
   "name": "python3"
  },
  "language_info": {
   "codemirror_mode": {
    "name": "ipython",
    "version": 3
   },
   "file_extension": ".py",
   "mimetype": "text/x-python",
   "name": "python",
   "nbconvert_exporter": "python",
   "pygments_lexer": "ipython3",
   "version": "3.9.5"
  },
  "orig_nbformat": 4
 },
 "nbformat": 4,
 "nbformat_minor": 2
}
